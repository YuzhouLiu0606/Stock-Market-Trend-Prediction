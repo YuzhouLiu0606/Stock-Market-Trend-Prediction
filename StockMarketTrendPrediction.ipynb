{
 "cells": [
  {
   "cell_type": "markdown",
   "metadata": {},
   "source": [
    "# CSC2515 Final Project\n",
    "## Stock Market Trend Prediction by News Headlinesand LSTM\n",
    "Yuzhou Liu, Department of Statistical Science, University of Toronto\n",
    "<br>Yingying Zhou, Faculty of Information, University of Toronto</br>"
   ]
  },
  {
   "cell_type": "markdown",
   "metadata": {},
   "source": [
    "### Import packages"
   ]
  },
  {
   "cell_type": "code",
   "execution_count": 5,
   "metadata": {
    "id": "nOx5eUXDzH9U"
   },
   "outputs": [],
   "source": [
    "import pandas as pd\n",
    "import numpy as np\n",
    "from matplotlib import pyplot\n",
    "import matplotlib.pyplot as plt\n",
    "\n",
    "from xgboost import XGBClassifier\n",
    "\n",
    "from statsmodels.tsa.arima_model import ARIMA\n",
    "from statsmodels.graphics.tsaplots import plot_acf, plot_pacf\n",
    "from statsmodels.tsa.stattools import adfuller\n",
    "\n",
    "from sklearn.decomposition import PCA\n",
    "from sklearn.preprocessing import StandardScaler\n",
    "\n",
    "from sklearn.metrics import classification_report, confusion_matrix, accuracy_score, mean_squared_error, roc_curve, auc\n",
    "from sklearn.model_selection import train_test_split\n",
    "\n",
    "from keras.models import Sequential\n",
    "from keras.layers import LSTM, Dense, BatchNormalization, GRU, Dropout\n",
    "from keras import metrics, optimizers"
   ]
  },
  {
   "cell_type": "markdown",
   "metadata": {},
   "source": [
    "### Generate technical indicators"
   ]
  },
  {
   "cell_type": "code",
   "execution_count": 6,
   "metadata": {
    "id": "J-TjPyPb8w72"
   },
   "outputs": [],
   "source": [
    "def get_techinical_indicators(data):\n",
    "    # 7 and 21 days moving average\n",
    "    data['ma7'] = data['Close'].rolling(window=7, min_periods=1).mean()\n",
    "    data['ma21'] = data['Close'].rolling(window=21, min_periods=1).mean()\n",
    "\n",
    "    # Exponential moving average\n",
    "    data['ema'] = data['Close'].ewm(com=0.5).mean()\n",
    "\n",
    "    return data"
   ]
  },
  {
   "cell_type": "markdown",
   "metadata": {},
   "source": [
    "### Load data & Feature engineering"
   ]
  },
  {
   "cell_type": "code",
   "execution_count": 7,
   "metadata": {
    "id": "c1OIlnhitYpT"
   },
   "outputs": [],
   "source": [
    "def get_data():\n",
    "    stock_data = pd.read_csv('upload_DJIA_table.csv', index_col = 'Date')\n",
    "    news_data = pd.read_csv('combined_stock_data.csv', index_col='Date')\n",
    "\n",
    "    # Filter the dates where the headlines are incompletet\n",
    "    missing_dates = [i for i, r in news_data.iterrows() if not isinstance(r['Para'], str)]\n",
    "\n",
    "    news_data = news_data[~news_data.index.isin(missing_dates)]\n",
    "    stock_data = stock_data[~stock_data.index.isin(missing_dates)]\n",
    "\n",
    "    # Store the Length for all headlines in 'ParaLength'\n",
    "    news_data['Para'] = news_data['Para'].str.replace('b', '')\n",
    "    news_data = news_data.assign( ParaLength = news_data['Para'].apply(lambda x: len(x.split())) )\n",
    "\n",
    "    # Merge the news data with the stock data\n",
    "    merged_news = news_data[['Label', 'Subjectivity', 'Objectivity', 'Positive', 'Negative', 'Neutral', \n",
    "                             'Para']].merge(stock_data, how='inner', left_index=True, right_index=True)\n",
    "    merged_news.sort_index()\n",
    "    \n",
    "    # Compute techinical indicators\n",
    "    megred_news = get_techinical_indicators(merged_news)\n",
    "\n",
    "    # Put columns 'Label' and 'Para' to the end of df\n",
    "    cols = list(merged_news)\n",
    "    cols.append(cols.pop(cols.index('Label')))\n",
    "    cols.append(cols.pop(cols.index('Para')))\n",
    "    merged_news = merged_news.loc[:, cols]\n",
    "\n",
    "    merged_news = merged_news.dropna()\n",
    "\n",
    "    return stock_data, news_data, merged_news"
   ]
  },
  {
   "cell_type": "code",
   "execution_count": 8,
   "metadata": {
    "id": "sH3Nw0CgiZXv"
   },
   "outputs": [],
   "source": [
    "stock_data, news_data, merged_news = get_data()"
   ]
  },
  {
   "cell_type": "code",
   "execution_count": 9,
   "metadata": {
    "colab": {
     "base_uri": "https://localhost:8080/",
     "height": 431
    },
    "id": "Q7RJX-9diakv",
    "outputId": "abd2e2fb-029f-4ec9-b074-19d527584690"
   },
   "outputs": [
    {
     "data": {
      "text/html": [
       "<div>\n",
       "<style scoped>\n",
       "    .dataframe tbody tr th:only-of-type {\n",
       "        vertical-align: middle;\n",
       "    }\n",
       "\n",
       "    .dataframe tbody tr th {\n",
       "        vertical-align: top;\n",
       "    }\n",
       "\n",
       "    .dataframe thead th {\n",
       "        text-align: right;\n",
       "    }\n",
       "</style>\n",
       "<table border=\"1\" class=\"dataframe\">\n",
       "  <thead>\n",
       "    <tr style=\"text-align: right;\">\n",
       "      <th></th>\n",
       "      <th>Subjectivity</th>\n",
       "      <th>Objectivity</th>\n",
       "      <th>Positive</th>\n",
       "      <th>Negative</th>\n",
       "      <th>Neutral</th>\n",
       "      <th>Open</th>\n",
       "      <th>High</th>\n",
       "      <th>Low</th>\n",
       "      <th>Close</th>\n",
       "      <th>Volume</th>\n",
       "      <th>Adj Close</th>\n",
       "      <th>ma7</th>\n",
       "      <th>ma21</th>\n",
       "      <th>ema</th>\n",
       "      <th>Label</th>\n",
       "      <th>Para</th>\n",
       "    </tr>\n",
       "    <tr>\n",
       "      <th>Date</th>\n",
       "      <th></th>\n",
       "      <th></th>\n",
       "      <th></th>\n",
       "      <th></th>\n",
       "      <th></th>\n",
       "      <th></th>\n",
       "      <th></th>\n",
       "      <th></th>\n",
       "      <th></th>\n",
       "      <th></th>\n",
       "      <th></th>\n",
       "      <th></th>\n",
       "      <th></th>\n",
       "      <th></th>\n",
       "      <th></th>\n",
       "      <th></th>\n",
       "    </tr>\n",
       "  </thead>\n",
       "  <tbody>\n",
       "    <tr>\n",
       "      <th>2008-08-08</th>\n",
       "      <td>75.000000</td>\n",
       "      <td>25.000000</td>\n",
       "      <td>18.750000</td>\n",
       "      <td>56.250000</td>\n",
       "      <td>25.000000</td>\n",
       "      <td>11432.089844</td>\n",
       "      <td>11759.959961</td>\n",
       "      <td>11388.040039</td>\n",
       "      <td>11734.320312</td>\n",
       "      <td>212830000</td>\n",
       "      <td>11734.320312</td>\n",
       "      <td>11734.320312</td>\n",
       "      <td>11734.320312</td>\n",
       "      <td>11734.320312</td>\n",
       "      <td>0</td>\n",
       "      <td>\"Georgia 'downs two Russian warplanes' as coun...</td>\n",
       "    </tr>\n",
       "    <tr>\n",
       "      <th>2008-08-11</th>\n",
       "      <td>83.333333</td>\n",
       "      <td>16.666667</td>\n",
       "      <td>41.666667</td>\n",
       "      <td>41.666667</td>\n",
       "      <td>16.666667</td>\n",
       "      <td>11729.669922</td>\n",
       "      <td>11867.110352</td>\n",
       "      <td>11675.530273</td>\n",
       "      <td>11782.349609</td>\n",
       "      <td>183190000</td>\n",
       "      <td>11782.349609</td>\n",
       "      <td>11758.334961</td>\n",
       "      <td>11758.334961</td>\n",
       "      <td>11770.342285</td>\n",
       "      <td>1</td>\n",
       "      <td>'Why wont America and Nato help us? If they wo...</td>\n",
       "    </tr>\n",
       "    <tr>\n",
       "      <th>2008-08-12</th>\n",
       "      <td>56.250000</td>\n",
       "      <td>43.750000</td>\n",
       "      <td>18.750000</td>\n",
       "      <td>37.500000</td>\n",
       "      <td>43.750000</td>\n",
       "      <td>11781.700195</td>\n",
       "      <td>11782.349609</td>\n",
       "      <td>11601.519531</td>\n",
       "      <td>11642.469727</td>\n",
       "      <td>173590000</td>\n",
       "      <td>11642.469727</td>\n",
       "      <td>11719.713216</td>\n",
       "      <td>11719.713216</td>\n",
       "      <td>11681.815129</td>\n",
       "      <td>0</td>\n",
       "      <td>'Rememer that adorale 9-year-old who sang at t...</td>\n",
       "    </tr>\n",
       "  </tbody>\n",
       "</table>\n",
       "</div>"
      ],
      "text/plain": [
       "            Subjectivity  Objectivity   Positive   Negative    Neutral  \\\n",
       "Date                                                                     \n",
       "2008-08-08     75.000000    25.000000  18.750000  56.250000  25.000000   \n",
       "2008-08-11     83.333333    16.666667  41.666667  41.666667  16.666667   \n",
       "2008-08-12     56.250000    43.750000  18.750000  37.500000  43.750000   \n",
       "\n",
       "                    Open          High           Low         Close     Volume  \\\n",
       "Date                                                                            \n",
       "2008-08-08  11432.089844  11759.959961  11388.040039  11734.320312  212830000   \n",
       "2008-08-11  11729.669922  11867.110352  11675.530273  11782.349609  183190000   \n",
       "2008-08-12  11781.700195  11782.349609  11601.519531  11642.469727  173590000   \n",
       "\n",
       "               Adj Close           ma7          ma21           ema  Label  \\\n",
       "Date                                                                        \n",
       "2008-08-08  11734.320312  11734.320312  11734.320312  11734.320312      0   \n",
       "2008-08-11  11782.349609  11758.334961  11758.334961  11770.342285      1   \n",
       "2008-08-12  11642.469727  11719.713216  11719.713216  11681.815129      0   \n",
       "\n",
       "                                                         Para  \n",
       "Date                                                           \n",
       "2008-08-08  \"Georgia 'downs two Russian warplanes' as coun...  \n",
       "2008-08-11  'Why wont America and Nato help us? If they wo...  \n",
       "2008-08-12  'Rememer that adorale 9-year-old who sang at t...  "
      ]
     },
     "execution_count": 9,
     "metadata": {},
     "output_type": "execute_result"
    }
   ],
   "source": [
    "merged_news.head(3)"
   ]
  },
  {
   "cell_type": "markdown",
   "metadata": {
    "id": "5eAAR6TS44Po"
   },
   "source": [
    "## EDA"
   ]
  },
  {
   "cell_type": "code",
   "execution_count": 12,
   "metadata": {
    "colab": {
     "base_uri": "https://localhost:8080/",
     "height": 381
    },
    "id": "QoMCOjG65CPd",
    "outputId": "4725fa2f-c959-41d1-80ef-1c685da669d5"
   },
   "outputs": [
    {
     "data": {
      "image/png": "[encoded data removed]",
      "text/plain": [
       "<Figure size 576x396 with 1 Axes>"
      ]
     },
     "metadata": {
      "needs_background": "light"
     },
     "output_type": "display_data"
    }
   ],
   "source": [
    "# Plot the close price and volum //TODO\n",
    "plt.figure(figsize=(8,5.5))\n",
    "merged_news['Adj Close'].plot()\n",
    "plt.xticks(rotation=45)\n",
    "plt.ylabel('Close Price',fontsize=15)\n",
    "plt.xlabel('Date',fontsize=15)\n",
    "plt.show()"
   ]
  },
  {
   "cell_type": "code",
   "execution_count": null,
   "metadata": {
    "colab": {
     "base_uri": "https://localhost:8080/"
    },
    "id": "MBpyHxxV5G0A",
    "outputId": "d663932b-e76a-41f4-f2cd-f450cca46c38"
   },
   "outputs": [
    {
     "data": {
      "text/plain": [
       "1    0.534743\n",
       "0    0.465257\n",
       "Name: Label, dtype: float64"
      ]
     },
     "execution_count": 42,
     "metadata": {
      "tags": []
     },
     "output_type": "execute_result"
    }
   ],
   "source": [
    "# The distribution of labels\n",
    "merged_news['Label'].value_counts(normalize=True)"
   ]
  },
  {
   "cell_type": "markdown",
   "metadata": {},
   "source": [
    "### Distribution of sentiment scores by their class"
   ]
  },
  {
   "cell_type": "code",
   "execution_count": 13,
   "metadata": {},
   "outputs": [
    {
     "data": {
      "text/html": [
       "<div>\n",
       "<style scoped>\n",
       "    .dataframe tbody tr th:only-of-type {\n",
       "        vertical-align: middle;\n",
       "    }\n",
       "\n",
       "    .dataframe tbody tr th {\n",
       "        vertical-align: top;\n",
       "    }\n",
       "\n",
       "    .dataframe thead th {\n",
       "        text-align: right;\n",
       "    }\n",
       "</style>\n",
       "<table border=\"1\" class=\"dataframe\">\n",
       "  <thead>\n",
       "    <tr style=\"text-align: right;\">\n",
       "      <th></th>\n",
       "      <th>Subjectivity</th>\n",
       "      <th>Objectivity</th>\n",
       "      <th>Positive</th>\n",
       "      <th>Negative</th>\n",
       "      <th>Neutral</th>\n",
       "      <th>Open</th>\n",
       "      <th>High</th>\n",
       "      <th>Low</th>\n",
       "      <th>Close</th>\n",
       "      <th>Volume</th>\n",
       "      <th>Adj Close</th>\n",
       "      <th>ma7</th>\n",
       "      <th>ma21</th>\n",
       "      <th>ema</th>\n",
       "      <th>Label</th>\n",
       "    </tr>\n",
       "  </thead>\n",
       "  <tbody>\n",
       "    <tr>\n",
       "      <th>count</th>\n",
       "      <td>1986.000000</td>\n",
       "      <td>1986.000000</td>\n",
       "      <td>1986.000000</td>\n",
       "      <td>1986.000000</td>\n",
       "      <td>1986.000000</td>\n",
       "      <td>1986.000000</td>\n",
       "      <td>1986.000000</td>\n",
       "      <td>1986.000000</td>\n",
       "      <td>1986.000000</td>\n",
       "      <td>1.986000e+03</td>\n",
       "      <td>1986.000000</td>\n",
       "      <td>1986.000000</td>\n",
       "      <td>1986.000000</td>\n",
       "      <td>1986.000000</td>\n",
       "      <td>1986.000000</td>\n",
       "    </tr>\n",
       "    <tr>\n",
       "      <th>mean</th>\n",
       "      <td>56.712522</td>\n",
       "      <td>43.287478</td>\n",
       "      <td>19.966718</td>\n",
       "      <td>36.745804</td>\n",
       "      <td>43.287478</td>\n",
       "      <td>13463.058741</td>\n",
       "      <td>13545.271995</td>\n",
       "      <td>13376.772929</td>\n",
       "      <td>13466.899126</td>\n",
       "      <td>1.628337e+08</td>\n",
       "      <td>13466.899126</td>\n",
       "      <td>13457.838903</td>\n",
       "      <td>13436.328130</td>\n",
       "      <td>13465.345328</td>\n",
       "      <td>0.534743</td>\n",
       "    </tr>\n",
       "    <tr>\n",
       "      <th>std</th>\n",
       "      <td>21.557927</td>\n",
       "      <td>21.557927</td>\n",
       "      <td>16.373424</td>\n",
       "      <td>21.109970</td>\n",
       "      <td>21.557927</td>\n",
       "      <td>3143.678855</td>\n",
       "      <td>3136.644307</td>\n",
       "      <td>3150.903434</td>\n",
       "      <td>3144.468618</td>\n",
       "      <td>9.395177e+07</td>\n",
       "      <td>3144.468618</td>\n",
       "      <td>3137.538141</td>\n",
       "      <td>3123.519544</td>\n",
       "      <td>3142.641995</td>\n",
       "      <td>0.498917</td>\n",
       "    </tr>\n",
       "    <tr>\n",
       "      <th>min</th>\n",
       "      <td>0.000000</td>\n",
       "      <td>0.000000</td>\n",
       "      <td>0.000000</td>\n",
       "      <td>0.000000</td>\n",
       "      <td>0.000000</td>\n",
       "      <td>6547.009766</td>\n",
       "      <td>6709.609863</td>\n",
       "      <td>6469.950195</td>\n",
       "      <td>6547.049805</td>\n",
       "      <td>8.410000e+06</td>\n",
       "      <td>6547.049805</td>\n",
       "      <td>6722.867118</td>\n",
       "      <td>7071.915713</td>\n",
       "      <td>6579.275502</td>\n",
       "      <td>0.000000</td>\n",
       "    </tr>\n",
       "    <tr>\n",
       "      <th>25%</th>\n",
       "      <td>40.000000</td>\n",
       "      <td>28.571429</td>\n",
       "      <td>8.333333</td>\n",
       "      <td>21.859903</td>\n",
       "      <td>28.571429</td>\n",
       "      <td>10913.674805</td>\n",
       "      <td>11022.854736</td>\n",
       "      <td>10825.817383</td>\n",
       "      <td>10919.824707</td>\n",
       "      <td>1.000375e+08</td>\n",
       "      <td>10919.824707</td>\n",
       "      <td>10956.851109</td>\n",
       "      <td>10958.817987</td>\n",
       "      <td>10926.594820</td>\n",
       "      <td>0.000000</td>\n",
       "    </tr>\n",
       "    <tr>\n",
       "      <th>50%</th>\n",
       "      <td>54.545455</td>\n",
       "      <td>45.454545</td>\n",
       "      <td>18.181818</td>\n",
       "      <td>33.333333</td>\n",
       "      <td>45.454545</td>\n",
       "      <td>13026.960450</td>\n",
       "      <td>13090.750000</td>\n",
       "      <td>12960.669922</td>\n",
       "      <td>13031.004883</td>\n",
       "      <td>1.351250e+08</td>\n",
       "      <td>13031.004883</td>\n",
       "      <td>13027.652693</td>\n",
       "      <td>13018.168759</td>\n",
       "      <td>13029.452509</td>\n",
       "      <td>1.000000</td>\n",
       "    </tr>\n",
       "    <tr>\n",
       "      <th>75%</th>\n",
       "      <td>71.428571</td>\n",
       "      <td>60.000000</td>\n",
       "      <td>28.571429</td>\n",
       "      <td>50.000000</td>\n",
       "      <td>60.000000</td>\n",
       "      <td>16482.244629</td>\n",
       "      <td>16554.959961</td>\n",
       "      <td>16396.288086</td>\n",
       "      <td>16479.513183</td>\n",
       "      <td>1.925525e+08</td>\n",
       "      <td>16479.513183</td>\n",
       "      <td>16473.057059</td>\n",
       "      <td>16479.965367</td>\n",
       "      <td>16480.304978</td>\n",
       "      <td>1.000000</td>\n",
       "    </tr>\n",
       "    <tr>\n",
       "      <th>max</th>\n",
       "      <td>100.000000</td>\n",
       "      <td>100.000000</td>\n",
       "      <td>100.000000</td>\n",
       "      <td>100.000000</td>\n",
       "      <td>100.000000</td>\n",
       "      <td>18315.060547</td>\n",
       "      <td>18351.359375</td>\n",
       "      <td>18272.560547</td>\n",
       "      <td>18312.390625</td>\n",
       "      <td>6.749200e+08</td>\n",
       "      <td>18312.390625</td>\n",
       "      <td>18277.033203</td>\n",
       "      <td>18120.696708</td>\n",
       "      <td>18301.922055</td>\n",
       "      <td>1.000000</td>\n",
       "    </tr>\n",
       "  </tbody>\n",
       "</table>\n",
       "</div>"
      ],
      "text/plain": [
       "       Subjectivity  Objectivity     Positive     Negative      Neutral  \\\n",
       "count   1986.000000  1986.000000  1986.000000  1986.000000  1986.000000   \n",
       "mean      56.712522    43.287478    19.966718    36.745804    43.287478   \n",
       "std       21.557927    21.557927    16.373424    21.109970    21.557927   \n",
       "min        0.000000     0.000000     0.000000     0.000000     0.000000   \n",
       "25%       40.000000    28.571429     8.333333    21.859903    28.571429   \n",
       "50%       54.545455    45.454545    18.181818    33.333333    45.454545   \n",
       "75%       71.428571    60.000000    28.571429    50.000000    60.000000   \n",
       "max      100.000000   100.000000   100.000000   100.000000   100.000000   \n",
       "\n",
       "               Open          High           Low         Close        Volume  \\\n",
       "count   1986.000000   1986.000000   1986.000000   1986.000000  1.986000e+03   \n",
       "mean   13463.058741  13545.271995  13376.772929  13466.899126  1.628337e+08   \n",
       "std     3143.678855   3136.644307   3150.903434   3144.468618  9.395177e+07   \n",
       "min     6547.009766   6709.609863   6469.950195   6547.049805  8.410000e+06   \n",
       "25%    10913.674805  11022.854736  10825.817383  10919.824707  1.000375e+08   \n",
       "50%    13026.960450  13090.750000  12960.669922  13031.004883  1.351250e+08   \n",
       "75%    16482.244629  16554.959961  16396.288086  16479.513183  1.925525e+08   \n",
       "max    18315.060547  18351.359375  18272.560547  18312.390625  6.749200e+08   \n",
       "\n",
       "          Adj Close           ma7          ma21           ema        Label  \n",
       "count   1986.000000   1986.000000   1986.000000   1986.000000  1986.000000  \n",
       "mean   13466.899126  13457.838903  13436.328130  13465.345328     0.534743  \n",
       "std     3144.468618   3137.538141   3123.519544   3142.641995     0.498917  \n",
       "min     6547.049805   6722.867118   7071.915713   6579.275502     0.000000  \n",
       "25%    10919.824707  10956.851109  10958.817987  10926.594820     0.000000  \n",
       "50%    13031.004883  13027.652693  13018.168759  13029.452509     1.000000  \n",
       "75%    16479.513183  16473.057059  16479.965367  16480.304978     1.000000  \n",
       "max    18312.390625  18277.033203  18120.696708  18301.922055     1.000000  "
      ]
     },
     "execution_count": 13,
     "metadata": {},
     "output_type": "execute_result"
    }
   ],
   "source": [
    "# statistical summary of sentiments\n",
    "merged_news.describe()"
   ]
  },
  {
   "cell_type": "code",
   "execution_count": 14,
   "metadata": {},
   "outputs": [
    {
     "data": {
      "image/png": "[encoded data removed]",
      "text/plain": [
       "<Figure size 864x864 with 6 Axes>"
      ]
     },
     "metadata": {},
     "output_type": "display_data"
    }
   ],
   "source": [
    "import seaborn as sns\n",
    "sns.set()\n",
    "merged_news[['Subjectivity','Objectivity','Positive','Negative','Neutral']].hist(\\\n",
    "                    sharex = False, sharey = False, xlabelsize = 10, ylabelsize = 10, figsize=(12, 12))\n",
    "plt.show()"
   ]
  },
  {
   "cell_type": "markdown",
   "metadata": {
    "id": "p_OzQRWmlmCm"
   },
   "source": [
    "## Train Test Split"
   ]
  },
  {
   "cell_type": "code",
   "execution_count": null,
   "metadata": {
    "id": "AADR21YejdSQ"
   },
   "outputs": [],
   "source": [
    "X = merged_news.loc[:,'Subjectivity':'ema']\n",
    "y = merged_news.loc[:,'Label']"
   ]
  },
  {
   "cell_type": "code",
   "execution_count": null,
   "metadata": {
    "id": "ZqYRHgbv7Vbg"
   },
   "outputs": [],
   "source": [
    "X_all = merged_news.copy(deep=True)\n",
    "X_all['RowNum'] = range(len(X_all))"
   ]
  },
  {
   "cell_type": "code",
   "execution_count": null,
   "metadata": {
    "id": "m2i4Br7P7WtA"
   },
   "outputs": [],
   "source": [
    "X_train = merged_news.loc[:'2014-12-31',:]\n",
    "X_test = merged_news.loc['2015-01-01':,:]\n",
    "\n",
    "Y_train = X_train.loc[:,'Label']\n",
    "Y_test = X_test.loc[:,'Label']"
   ]
  },
  {
   "cell_type": "code",
   "execution_count": null,
   "metadata": {
    "id": "utkNjArZ9RUq"
   },
   "outputs": [],
   "source": [
    "# split into training/valuation set\n",
    "x_train, x_val, y_train, y_val = train_test_split(X_train, Y_train, test_size=0.2)"
   ]
  },
  {
   "cell_type": "code",
   "execution_count": null,
   "metadata": {
    "id": "22Enl4z6lKqI"
   },
   "outputs": [],
   "source": [
    "# lagged features list\n",
    "feature_lag = ['Subjectivity','Objectivity','Positive','Negative','Neutral','High','Low','Volume','Close','Adj Close','ma7','ma21','ema']\n",
    "\n",
    "# Shift the features in the lagged feature list \n",
    "X_lag = merged_news.copy(deep=True)\n",
    "X_lag.loc[:,feature_lag] = X_lag.shift(1).loc[:,feature_lag]\n",
    "X_lag = X_lag.dropna()\n",
    "\n",
    "# Split the data into train and test data\n",
    "X_train_lag = X_lag.loc[:'2014-12-31',:]\n",
    "X_test_lag = X_lag.loc['2015-01-01':,:]\n",
    "\n",
    "Y_train_lag = X_train_lag.loc[:,'Label']\n",
    "Y_test_lag = X_test_lag.loc[:,'Label']\n",
    "\n",
    "# split the lagged data into training/valuation set\n",
    "x_train_lag, x_val_lag, y_train_lag, y_val_lag = train_test_split(X_train_lag, Y_train_lag, test_size=0.2)"
   ]
  },
  {
   "cell_type": "markdown",
   "metadata": {
    "id": "o8LkVdXm9WrC"
   },
   "source": [
    "## XGBoost with PCA transformation:"
   ]
  },
  {
   "cell_type": "code",
   "execution_count": null,
   "metadata": {
    "id": "iYrcbSy7nHfx"
   },
   "outputs": [],
   "source": [
    "feature_list = ['Subjectivity','Objectivity','Positive','Negative','Neutral','Open','High','Low','Volume','Close','ma7','ema']"
   ]
  },
  {
   "cell_type": "code",
   "execution_count": null,
   "metadata": {
    "colab": {
     "base_uri": "https://localhost:8080/"
    },
    "id": "57wV2qVoFJYI",
    "outputId": "9833efbf-cf99-446d-8466-159354ab8905"
   },
   "outputs": [
    {
     "name": "stdout",
     "output_type": "stream",
     "text": [
      "(1607, 7)\n",
      "(378, 7)\n"
     ]
    }
   ],
   "source": [
    "# XGBoost & PCA with lagged data\n",
    "pca = PCA(n_components=7)\n",
    "pca.fit(X_train_lag.loc[:,feature_list])\n",
    "\n",
    "# PCA transform training set\n",
    "X_train_lag_trans = pca.transform(X_train_lag.loc[:,feature_list])\n",
    "X_train_lag_pca = pd.DataFrame(X_train_lag_trans)\n",
    "print(X_train_lag_pca.shape)\n",
    "\n",
    "# PCA transform test set\n",
    "X_test_lag_pca = pd.DataFrame(pca.transform(X_test_lag.loc[:,feature_list]))\n",
    "print(X_test_lag_pca.shape)"
   ]
  },
  {
   "cell_type": "code",
   "execution_count": null,
   "metadata": {
    "colab": {
     "base_uri": "https://localhost:8080/"
    },
    "id": "dWilev1xqSq_",
    "outputId": "adff1c28-844e-482f-a191-e04d4a743366"
   },
   "outputs": [
    {
     "name": "stdout",
     "output_type": "stream",
     "text": [
      "Trainig set accuracy (with lag = 1): 62.39%\n",
      "Test set accuracy (with lag = 1): 56.08%\n"
     ]
    }
   ],
   "source": [
    "# Feed the data into the Classifier\n",
    "clf = XGBClassifier(n_estimators=25, max_depth=3)\n",
    "clf.fit(X_train_lag_pca, Y_train_lag)\n",
    "\n",
    "# Predict over training set\n",
    "y_pred_train_lag_pca = clf.predict(X_train_lag_pca)\n",
    "score_train = accuracy_score(y_pred_train_lag_pca, Y_train_lag)\n",
    "print('Trainig set accuracy (with lag = 1): {:.2%}'.format(score_train))\n",
    "\n",
    "# Predict over test set\n",
    "y_pred_test_lag_pca = clf.predict(X_test_lag_pca)\n",
    "score_test = accuracy_score(y_pred_test_lag_pca, Y_test_lag)\n",
    "print('Test set accuracy (with lag = 1): {:.2%}'.format(score_test))"
   ]
  },
  {
   "cell_type": "markdown",
   "metadata": {
    "id": "WJkWjSF1XwYP"
   },
   "source": [
    "### Performance measure: ROC curve"
   ]
  },
  {
   "cell_type": "code",
   "execution_count": null,
   "metadata": {
    "colab": {
     "base_uri": "https://localhost:8080/",
     "height": 329
    },
    "id": "L8Si_kebXvOj",
    "outputId": "1d8cac9d-9fee-45ce-b9d9-942edf215a16"
   },
   "outputs": [
    {
     "name": "stdout",
     "output_type": "stream",
     "text": [
      "AUC score is 0.5521393369175627\n",
      "roc auc is :0.5521393369175627\n"
     ]
    },
    {
     "data": {
      "image/png": "[encoded data removed]",
      "text/plain": [
       "<Figure size 432x288 with 1 Axes>"
      ]
     },
     "metadata": {
      "needs_background": "light",
      "tags": []
     },
     "output_type": "display_data"
    }
   ],
   "source": [
    "# Generating the ROC curve\n",
    "y_pred_proba_lag_pca = clf.predict_proba(X_test_lag_pca)[:,1]\n",
    "fpr, tpr, thresholds = roc_curve(Y_test_lag, y_pred_proba_lag_pca)\n",
    "roc_auc = auc(fpr, tpr)\n",
    "print(\"AUC score is \" + str(roc_auc))\n",
    "\n",
    "# Plot ROC curve\n",
    "print(\"roc auc is :\" + str(roc_auc))\n",
    "pyplot.plot([0, 1], [0, 1], 'k--')\n",
    "pyplot.plot(fpr, tpr)\n",
    "pyplot.xlabel('False Positive Rate')\n",
    "pyplot.ylabel('True Positive Rate')\n",
    "pyplot.title('ROC Curve')\n",
    "pyplot.show()"
   ]
  },
  {
   "cell_type": "markdown",
   "metadata": {
    "id": "iyQ0eDCVk1fi"
   },
   "source": [
    "# Neural Network"
   ]
  },
  {
   "cell_type": "code",
   "execution_count": null,
   "metadata": {
    "id": "CoHROd3jk5Aj"
   },
   "outputs": [],
   "source": [
    "import torch\n",
    "import torch.nn as nn\n",
    "import torch.nn.functional as F\n",
    "import torch.optim as optim\n",
    "from torch.utils.data import DataLoader, Dataset"
   ]
  },
  {
   "cell_type": "code",
   "execution_count": null,
   "metadata": {
    "id": "U8sAHd_7k-Q8"
   },
   "outputs": [],
   "source": [
    "class Net(nn.Module):\n",
    "    def __init__(self, nNodes, nClasses, nDims):\n",
    "        super(Net, self).__init__()\n",
    "        \n",
    "        self.f_in_to_h1 = nn.Linear(nDims, nNodes)\n",
    "        self.f_h1_to_h2 = nn.Linear(nNodes, nNodes)\n",
    "        self.f_h2_to_out = nn.Linear(nNodes, nClasses)\n",
    "\n",
    "    def forward(self, x):\n",
    "        relu = nn.ReLU()\n",
    "        \n",
    "        h1 = relu(self.f_in_to_h1(x))\n",
    "        h2 = relu(self.f_h1_to_h2(h1))\n",
    "        y = self.f_h2_to_out(h2)\n",
    "        return y"
   ]
  },
  {
   "cell_type": "code",
   "execution_count": null,
   "metadata": {
    "id": "iMkl7QOVlAT_"
   },
   "outputs": [],
   "source": [
    "class StockData(Dataset):\n",
    "    def __init__(self, df, complete_data, feature_list, lag):\n",
    "        self.df = df.copy(deep=True)\n",
    "        self.df.reset_index(inplace=True)\n",
    "        self.complete_data = complete_data\n",
    "        self.row_list = feature_list\n",
    "        self.lag = lag\n",
    "        self.lag_list = feature_list[:]\n",
    "        self.lag_list.remove('Open')\n",
    "        #self.df.reset_index(drop=True, inplace=True)\n",
    "        \n",
    "    def __len__(self):\n",
    "        return(len(self.df))\n",
    "\n",
    "    def __getitem__(self, index):\n",
    "        today = self.df.loc[index, 'Date']\n",
    "      \n",
    "        if (self.lag==True):\n",
    "            features = self.df.loc[index, self.row_list]\n",
    "            RowNum = self.complete_data.loc[today, 'RowNum']\n",
    "            \n",
    "            if RowNum > 0:\n",
    "                Yesterday = self.complete_data.index[RowNum-1]\n",
    "                features[self.lag_list] = self.complete_data.loc[Yesterday, self.lag_list].values\n",
    "\n",
    "        features_tensor = torch.tensor(features)\n",
    "        \n",
    "        labels = self.df.loc[index, 'Label']\n",
    "        labels_tensor = torch.tensor(labels)\n",
    "        \n",
    "        #today_tensor = torch.tensor(list(today))\n",
    "\n",
    "        return features_tensor, labels_tensor, today"
   ]
  },
  {
   "cell_type": "code",
   "execution_count": null,
   "metadata": {
    "id": "Rzv2bs3elDss"
   },
   "outputs": [],
   "source": [
    "def train(net, train_loader, val_loader, feature_list, loss_func, opti, epochs, GPU=False):\n",
    "    loss_hist = []\n",
    "    val_loss_all = []\n",
    "    val_acc_all = []\n",
    "    \n",
    "    for epoch in range(epochs):\n",
    "        for _, (stockdata, labels, dates) in enumerate(train_loader):\n",
    "            opti.zero_grad()\n",
    "            if GPU==True:\n",
    "                stockdata, labels, dates = stockdata.to(device), labels.to(device), dates \n",
    "           \n",
    "            outputs = net(stockdata.float())\n",
    "            \n",
    "            loss = loss_func(outputs, labels)\n",
    "            loss.backward()\n",
    "            opti.step()\n",
    "            loss_hist.append(loss.item())\n",
    "            \n",
    "        cnt, val_acc, val_loss = evaluate(net, loss_func, val_loader, GPU)\n",
    "        \n",
    "        if (epoch % (epochs/10)) == 0:\n",
    "            print(\" {} Validation Data, Validation Accuracy : {}, Validation Loss : {}\".format(cnt, val_acc, val_loss))\n",
    "            val_acc_all.append(val_acc)\n",
    "            val_loss_all.append(val_loss)"
   ]
  },
  {
   "cell_type": "code",
   "execution_count": null,
   "metadata": {
    "id": "3gun1wIzlGJf"
   },
   "outputs": [],
   "source": [
    "def evaluate(net, loss_func, dataloader, GPU=False):\n",
    "    net.eval()\n",
    "    acc, loss = 0, 0\n",
    "    cnt = len(dataloader)\n",
    "    \n",
    "    with torch.no_grad():\n",
    "        for stockdata, labels, dates in dataloader:\n",
    "            if GPU==True:\n",
    "                stockdata, labels, dates = stockdata.to(device), labels.to(device), dates\n",
    "            outputs = net(stockdata.float())\n",
    "            loss += loss_func(outputs, labels)\n",
    "            \n",
    "            predicted = outputs.max(dim = 1)[1]\n",
    "            acc += (predicted == labels).float().mean()\n",
    "            \n",
    "            #if count > val_fraction * len(x_val):\n",
    "                #break\n",
    "                \n",
    "    mean_acc = acc/cnt\n",
    "    mean_loss = loss/cnt\n",
    "                \n",
    "    return cnt, mean_acc, mean_loss"
   ]
  },
  {
   "cell_type": "code",
   "execution_count": null,
   "metadata": {
    "id": "9tDVhfqZlIUB"
   },
   "outputs": [],
   "source": [
    "feature_list_nn = ['Subjectivity', 'Objectivity', 'Positive', 'Negative', 'Neutral', 'Open', 'High', 'Low', 'Volume', 'Close', 'Adj Close','ma7'] \n",
    "val_fraction = 0.05"
   ]
  },
  {
   "cell_type": "code",
   "execution_count": null,
   "metadata": {
    "colab": {
     "base_uri": "https://localhost:8080/",
     "height": 507
    },
    "id": "n3nnI75SGU9c",
    "outputId": "9f53997f-6c0c-4e89-8e4e-4c79a55ae5df"
   },
   "outputs": [
    {
     "name": "stdout",
     "output_type": "stream",
     "text": [
      "Length of x_train: 1286\n"
     ]
    },
    {
     "data": {
      "text/html": [
       "<div>\n",
       "<style scoped>\n",
       "    .dataframe tbody tr th:only-of-type {\n",
       "        vertical-align: middle;\n",
       "    }\n",
       "\n",
       "    .dataframe tbody tr th {\n",
       "        vertical-align: top;\n",
       "    }\n",
       "\n",
       "    .dataframe thead th {\n",
       "        text-align: right;\n",
       "    }\n",
       "</style>\n",
       "<table border=\"1\" class=\"dataframe\">\n",
       "  <thead>\n",
       "    <tr style=\"text-align: right;\">\n",
       "      <th></th>\n",
       "      <th>Subjectivity</th>\n",
       "      <th>Objectivity</th>\n",
       "      <th>Positive</th>\n",
       "      <th>Negative</th>\n",
       "      <th>Neutral</th>\n",
       "      <th>Open</th>\n",
       "      <th>High</th>\n",
       "      <th>Low</th>\n",
       "      <th>Close</th>\n",
       "      <th>Volume</th>\n",
       "      <th>Adj Close</th>\n",
       "      <th>Label</th>\n",
       "      <th>Para</th>\n",
       "      <th>ma7</th>\n",
       "      <th>ema</th>\n",
       "    </tr>\n",
       "    <tr>\n",
       "      <th>Date</th>\n",
       "      <th></th>\n",
       "      <th></th>\n",
       "      <th></th>\n",
       "      <th></th>\n",
       "      <th></th>\n",
       "      <th></th>\n",
       "      <th></th>\n",
       "      <th></th>\n",
       "      <th></th>\n",
       "      <th></th>\n",
       "      <th></th>\n",
       "      <th></th>\n",
       "      <th></th>\n",
       "      <th></th>\n",
       "      <th></th>\n",
       "    </tr>\n",
       "  </thead>\n",
       "  <tbody>\n",
       "    <tr>\n",
       "      <th>2010-04-23</th>\n",
       "      <td>58.333333</td>\n",
       "      <td>41.666667</td>\n",
       "      <td>25.000000</td>\n",
       "      <td>33.333333</td>\n",
       "      <td>41.666667</td>\n",
       "      <td>11132.179688</td>\n",
       "      <td>11205.639648</td>\n",
       "      <td>11105.650391</td>\n",
       "      <td>11204.280273</td>\n",
       "      <td>207380000</td>\n",
       "      <td>11204.280273</td>\n",
       "      <td>1</td>\n",
       "      <td>'A Saudi law firm claiming to represent 94,000...</td>\n",
       "      <td>11119.404297</td>\n",
       "      <td>11179.153029</td>\n",
       "    </tr>\n",
       "    <tr>\n",
       "      <th>2010-10-25</th>\n",
       "      <td>40.000000</td>\n",
       "      <td>60.000000</td>\n",
       "      <td>0.000000</td>\n",
       "      <td>40.000000</td>\n",
       "      <td>60.000000</td>\n",
       "      <td>11133.400391</td>\n",
       "      <td>11247.599609</td>\n",
       "      <td>11132.339844</td>\n",
       "      <td>11164.049805</td>\n",
       "      <td>168110000</td>\n",
       "      <td>11164.049805</td>\n",
       "      <td>1</td>\n",
       "      <td>Afghanistan's President Karzai admits that his...</td>\n",
       "      <td>11105.177176</td>\n",
       "      <td>11152.662178</td>\n",
       "    </tr>\n",
       "    <tr>\n",
       "      <th>2013-11-27</th>\n",
       "      <td>61.538462</td>\n",
       "      <td>38.461538</td>\n",
       "      <td>15.384615</td>\n",
       "      <td>46.153846</td>\n",
       "      <td>38.461538</td>\n",
       "      <td>16073.370117</td>\n",
       "      <td>16107.990234</td>\n",
       "      <td>16057.339844</td>\n",
       "      <td>16097.330078</td>\n",
       "      <td>65730000</td>\n",
       "      <td>16097.330078</td>\n",
       "      <td>1</td>\n",
       "      <td>US flies B52 aircraft over disputed islands in...</td>\n",
       "      <td>16026.468610</td>\n",
       "      <td>16087.798217</td>\n",
       "    </tr>\n",
       "    <tr>\n",
       "      <th>2014-05-27</th>\n",
       "      <td>100.000000</td>\n",
       "      <td>0.000000</td>\n",
       "      <td>33.333333</td>\n",
       "      <td>66.666667</td>\n",
       "      <td>0.000000</td>\n",
       "      <td>16607.419922</td>\n",
       "      <td>16688.689453</td>\n",
       "      <td>16607.419922</td>\n",
       "      <td>16675.500000</td>\n",
       "      <td>80870000</td>\n",
       "      <td>16675.500000</td>\n",
       "      <td>1</td>\n",
       "      <td>The Soma coal mine, where 301 workers lost the...</td>\n",
       "      <td>16533.627093</td>\n",
       "      <td>16643.618223</td>\n",
       "    </tr>\n",
       "    <tr>\n",
       "      <th>2010-07-21</th>\n",
       "      <td>66.666667</td>\n",
       "      <td>33.333333</td>\n",
       "      <td>33.333333</td>\n",
       "      <td>33.333333</td>\n",
       "      <td>33.333333</td>\n",
       "      <td>10226.019531</td>\n",
       "      <td>10265.540039</td>\n",
       "      <td>10065.500000</td>\n",
       "      <td>10120.530273</td>\n",
       "      <td>203900000</td>\n",
       "      <td>10120.530273</td>\n",
       "      <td>0</td>\n",
       "      <td>A Palestinian man has een convicted of rape af...</td>\n",
       "      <td>10241.695592</td>\n",
       "      <td>10149.697066</td>\n",
       "    </tr>\n",
       "  </tbody>\n",
       "</table>\n",
       "</div>"
      ],
      "text/plain": [
       "            Subjectivity  Objectivity  ...           ma7           ema\n",
       "Date                                   ...                            \n",
       "2010-04-23     58.333333    41.666667  ...  11119.404297  11179.153029\n",
       "2010-10-25     40.000000    60.000000  ...  11105.177176  11152.662178\n",
       "2013-11-27     61.538462    38.461538  ...  16026.468610  16087.798217\n",
       "2014-05-27    100.000000     0.000000  ...  16533.627093  16643.618223\n",
       "2010-07-21     66.666667    33.333333  ...  10241.695592  10149.697066\n",
       "\n",
       "[5 rows x 15 columns]"
      ]
     },
     "execution_count": 71,
     "metadata": {
      "tags": []
     },
     "output_type": "execute_result"
    }
   ],
   "source": [
    "print('Length of x_train: '+str(len(x_train)))\n",
    "x_train.head()"
   ]
  },
  {
   "cell_type": "code",
   "execution_count": null,
   "metadata": {
    "id": "0CsgxXhllLHg"
   },
   "outputs": [],
   "source": [
    "train_ = StockData(x_train, X_all, feature_list_nn, lag=True)\n",
    "val_ = StockData(x_val, X_all, feature_list_nn, lag=True)"
   ]
  },
  {
   "cell_type": "code",
   "execution_count": null,
   "metadata": {
    "colab": {
     "base_uri": "https://localhost:8080/"
    },
    "id": "ahUFrljENbo8",
    "outputId": "4ec36b42-68fe-490d-93b9-78a3ecd4abab"
   },
   "outputs": [
    {
     "name": "stdout",
     "output_type": "stream",
     "text": [
      "Train Batch Size: 161\n",
      "Validation Batch Size: 322\n"
     ]
    }
   ],
   "source": [
    "train_loader = DataLoader(train_, batch_size=8, num_workers=4, shuffle=True)\n",
    "val_loader = DataLoader(val_, batch_size=1, num_workers = 4)\n",
    "\n",
    "print('Train Batch Size: {}'.format(len(train_loader)))\n",
    "print('Validation Batch Size: {}'.format(len(val_loader)))"
   ]
  },
  {
   "cell_type": "code",
   "execution_count": null,
   "metadata": {
    "id": "CrCd9X1elMps"
   },
   "outputs": [],
   "source": [
    "nNodes = 50\n",
    "nClasses = 2\n",
    "nDim = len(feature_list_nn)"
   ]
  },
  {
   "cell_type": "code",
   "execution_count": null,
   "metadata": {
    "id": "r2zHzmvOlPiR"
   },
   "outputs": [],
   "source": [
    "net = Net(nNodes, nClasses, nDim)"
   ]
  },
  {
   "cell_type": "code",
   "execution_count": null,
   "metadata": {
    "colab": {
     "base_uri": "https://localhost:8080/"
    },
    "id": "lf8Wn3ZzMqty",
    "outputId": "0b7578b4-e0b2-4bcd-91fe-fda438a7b31d"
   },
   "outputs": [
    {
     "name": "stdout",
     "output_type": "stream",
     "text": [
      "Current Device: cuda \n",
      "\n"
     ]
    },
    {
     "data": {
      "text/plain": [
       "Net(\n",
       "  (f_in_to_h1): Linear(in_features=12, out_features=50, bias=True)\n",
       "  (f_h1_to_h2): Linear(in_features=50, out_features=50, bias=True)\n",
       "  (f_h2_to_out): Linear(in_features=50, out_features=2, bias=True)\n",
       ")"
      ]
     },
     "execution_count": 78,
     "metadata": {
      "tags": []
     },
     "output_type": "execute_result"
    }
   ],
   "source": [
    "# Please ignore if you do not need it\n",
    "device = torch.device(\"cuda\" if torch.cuda.is_available() else \"cpu\")\n",
    "print('Current Device: {} \\n'.format(device))\n",
    "\n",
    "net.to(device)"
   ]
  },
  {
   "cell_type": "code",
   "execution_count": null,
   "metadata": {
    "id": "r7a9yBpplRgc"
   },
   "outputs": [],
   "source": [
    "loss_func = nn.CrossEntropyLoss()\n",
    "opti = optim.Adam(net.parameters(), lr = 1e-3)\n",
    "#m = nn.LogSoftmax(dim=1)"
   ]
  },
  {
   "cell_type": "code",
   "execution_count": null,
   "metadata": {
    "id": "HhudTkzeM-jQ"
   },
   "outputs": [],
   "source": [
    "torch.cuda.set_device(0)"
   ]
  },
  {
   "cell_type": "code",
   "execution_count": null,
   "metadata": {
    "colab": {
     "base_uri": "https://localhost:8080/"
    },
    "id": "mRzQpRNElUNZ",
    "outputId": "042bdfb2-8383-4821-e576-dcd9747cd848"
   },
   "outputs": [
    {
     "name": "stdout",
     "output_type": "stream",
     "text": [
      " 322 Validation Data, Validation Accuracy : 0.5, Validation Loss : 119871.1328125\n",
      " 322 Validation Data, Validation Accuracy : 0.5, Validation Loss : 88803.0625\n",
      " 322 Validation Data, Validation Accuracy : 0.5, Validation Loss : 30642.47265625\n",
      " 322 Validation Data, Validation Accuracy : 0.5, Validation Loss : 18897.603515625\n",
      " 322 Validation Data, Validation Accuracy : 0.5, Validation Loss : 8240.5166015625\n",
      " 322 Validation Data, Validation Accuracy : 0.5, Validation Loss : 2865.26171875\n",
      " 322 Validation Data, Validation Accuracy : 0.5, Validation Loss : 79.97328186035156\n",
      " 322 Validation Data, Validation Accuracy : 0.5124223828315735, Validation Loss : 10.899392127990723\n",
      " 322 Validation Data, Validation Accuracy : 0.5124223828315735, Validation Loss : 2.6415698528289795\n",
      " 322 Validation Data, Validation Accuracy : 0.5031055808067322, Validation Loss : 12.03015422821045\n"
     ]
    }
   ],
   "source": [
    "train(net, train_loader, val_loader, feature_list_nn, loss_func, opti, 100, GPU=True)"
   ]
  },
  {
   "cell_type": "code",
   "execution_count": null,
   "metadata": {
    "id": "HfAJvckpE0n9"
   },
   "outputs": [],
   "source": [
    "X_test_lagged = X_test.copy(deep=True)\n",
    "X_test_lagged.loc[:,['Subjectivity', 'Objectivity', 'Positive', 'Negative', 'Neutral','High', 'Low','Volume','Close','Adj Close','ma7']] = X_test.shift(1).loc[:,['Subjectivity', 'Objectivity', 'Positive', 'Negative', 'Neutral', 'High', 'Low','Volume','Close','Adj Close','ma7']]\n",
    "X_test_lagged = X_test_lagged.dropna().loc[:,feature_list_nn]\n",
    "X_test_lagged_tensor = torch.tensor(X_test_lagged.values).float()\n",
    "X_test_lagged_tensor = X_test_lagged_tensor.to(device)"
   ]
  },
  {
   "cell_type": "code",
   "execution_count": null,
   "metadata": {
    "colab": {
     "base_uri": "https://localhost:8080/"
    },
    "id": "2YEKt4hWlWmS",
    "outputId": "beac63dd-8f31-4873-e7ef-4c7bd250adf4"
   },
   "outputs": [
    {
     "data": {
      "text/plain": [
       "0.5052910052910053"
      ]
     },
     "execution_count": 83,
     "metadata": {
      "tags": []
     },
     "output_type": "execute_result"
    }
   ],
   "source": [
    "#X_test_tensor = torch.tensor(X_test.loc[:,feature_list].values).float()\n",
    "#out = net(X_test_tensor)\n",
    "out = net(X_test_lagged_tensor)\n",
    "Y_test_pred = out.max(dim = 1)[1]\n",
    "np.sum(Y_test_pred.tolist()==Y_test[1:].values)/len(Y_test)"
   ]
  },
  {
   "cell_type": "markdown",
   "metadata": {
    "id": "j8Bpp5QFlYFZ"
   },
   "source": [
    "# RNN - LSTM"
   ]
  },
  {
   "cell_type": "markdown",
   "metadata": {
    "id": "H0ACH1JOXZXM"
   },
   "source": [
    "### Preprocessing the dataset\n",
    "1. Split dataset into X and y\n",
    "2. Prepare X to feed in RNN with sequential length of 60 (model1) and 90 (model2)"
   ]
  },
  {
   "cell_type": "markdown",
   "metadata": {
    "id": "UTYuCeCUX3s0"
   },
   "source": [
    "We are using cross entropy loss function and accuracy for metrics evaluation with adam optimizer for BINARY CLASSIFICATION"
   ]
  },
  {
   "cell_type": "code",
   "execution_count": null,
   "metadata": {
    "id": "V8qGKLAnWQK9"
   },
   "outputs": [],
   "source": [
    "feature_list = ['Label','Subjectivity','Objectivity','Positive','Negative','Neutral','Open','High','Low','Volume','Close','ma7']"
   ]
  },
  {
   "cell_type": "code",
   "execution_count": null,
   "metadata": {
    "colab": {
     "base_uri": "https://localhost:8080/"
    },
    "id": "KywIT07KXbt-",
    "outputId": "58591ea0-e8d1-4f49-fb12-b515912cfd7a"
   },
   "outputs": [
    {
     "name": "stdout",
     "output_type": "stream",
     "text": [
      "(1548, 60, 12)\n",
      "(318, 60, 12)\n"
     ]
    }
   ],
   "source": [
    "seq_len_lstm = 60\n",
    "\n",
    "X_train_lstm = merged_news.loc[:'2014-12-31', feature_list].dropna()\n",
    "X_test_lstm = merged_news.loc['2015-01-01':, feature_list]\n",
    "Y_train_lstm = merged_news.loc[:'2014-12-31','Label']\n",
    "Y_test_lstm = merged_news.loc['2015-01-01':,'Label']\n",
    "\n",
    "X_train_lstm = np.array(X_train_lstm)\n",
    "X_test_lstm = np.array(X_test_lstm.values)\n",
    "Y_train_lstm = np.array(Y_train_lstm)\n",
    "Y_test_lstm = np.array(Y_test_lstm)\n",
    "\n",
    "#Normalize data\n",
    "scaler1 = StandardScaler()\n",
    "scaler1.fit(X_train_lstm)\n",
    "X_train_lstm_trans = scaler1.transform(X_train_lstm)\n",
    "X_test_lstm_trans = scaler1.transform(X_test_lstm)\n",
    "\n",
    "# Build data lstm with lagged sequence = seq_len_lstm\n",
    "x_train_lstm, y_train_lstm =([],[])\n",
    "\n",
    "for i in range(seq_len_lstm, X_train_lstm_trans.shape[0]):\n",
    "    x_train_lstm.append(X_train_lstm_trans[i-seq_len_lstm:i])\n",
    "    y_train_lstm.append(Y_train_lstm[i])\n",
    "    \n",
    "x_train_lstm = np.array(x_train_lstm)\n",
    "x_train_lstm = x_train_lstm.reshape((x_train_lstm.shape[0], x_train_lstm.shape[1], len(feature_list)))\n",
    "y_train_lstm = np.array(y_train_lstm)\n",
    "y_train_lstm = y_train_lstm.reshape((y_train_lstm.shape[0],1))\n",
    "print(x_train_lstm.shape)\n",
    "\n",
    "x_test_lstm, y_test_lstm=([],[])\n",
    "\n",
    "for i in range(seq_len_lstm, X_test_lstm.shape[0]):\n",
    "    x_test_lstm.append(X_test_lstm_trans[i-seq_len_lstm:i])\n",
    "    y_test_lstm.append(Y_test_lstm[i])\n",
    "    \n",
    "#Transform the data into proper shape\n",
    "x_test_lstm = np.array(x_test_lstm)\n",
    "x_test_lstm = x_test_lstm.reshape((x_test_lstm.shape[0],x_test_lstm.shape[1],len(feature_list)))\n",
    "y_test_lstm = np.array(y_test_lstm)\n",
    "y_test_lstm = y_test_lstm.reshape((y_test_lstm.shape[0],1))\n",
    "print(x_test_lstm.shape)"
   ]
  },
  {
   "cell_type": "code",
   "execution_count": null,
   "metadata": {
    "id": "NFQJDr6DWvjx"
   },
   "outputs": [],
   "source": [
    "# Model 1: LSTM\n",
    "model1 = Sequential()\n",
    "model1.add(LSTM(128, input_shape=(x_train_lstm.shape[1],x_train_lstm.shape[2]), return_sequences=True))\n",
    "model1.add(BatchNormalization())\n",
    "model1.add(LSTM(128))\n",
    "model1.add(BatchNormalization())\n",
    "model1.add(Dense(1, activation='sigmoid'))"
   ]
  },
  {
   "cell_type": "code",
   "execution_count": null,
   "metadata": {
    "colab": {
     "base_uri": "https://localhost:8080/"
    },
    "id": "yLktr7oPWwNp",
    "outputId": "77ec8eb7-624e-4c30-c6f3-293e53fca792"
   },
   "outputs": [
    {
     "data": {
      "text/plain": [
       "<tensorflow.python.keras.optimizer_v2.adam.Adam at 0x7f2b1c59ada0>"
      ]
     },
     "execution_count": 358,
     "metadata": {
      "tags": []
     },
     "output_type": "execute_result"
    }
   ],
   "source": [
    "model1.compile(loss='binary_crossentropy',optimizer='adam',metrics=['accuracy'])\n",
    "optimizers.Adam(learning_rate=1e-3)"
   ]
  },
  {
   "cell_type": "code",
   "execution_count": null,
   "metadata": {
    "colab": {
     "base_uri": "https://localhost:8080/"
    },
    "id": "tYJGHUn7WwU1",
    "outputId": "c6589e61-21b7-468b-ea27-2ae3837b933a"
   },
   "outputs": [
    {
     "name": "stdout",
     "output_type": "stream",
     "text": [
      "Epoch 1/25\n",
      "25/25 [==============================] - 6s 226ms/step - loss: 0.7817 - accuracy: 0.5013\n",
      "Epoch 2/25\n",
      "25/25 [==============================] - 6s 226ms/step - loss: 0.7049 - accuracy: 0.5472\n",
      "Epoch 3/25\n",
      "25/25 [==============================] - 6s 230ms/step - loss: 0.7021 - accuracy: 0.5459\n",
      "Epoch 4/25\n",
      "25/25 [==============================] - 6s 229ms/step - loss: 0.6883 - accuracy: 0.5640\n",
      "Epoch 5/25\n",
      "25/25 [==============================] - 6s 227ms/step - loss: 0.6859 - accuracy: 0.5614\n",
      "Epoch 6/25\n",
      "25/25 [==============================] - 6s 228ms/step - loss: 0.6930 - accuracy: 0.5536\n",
      "Epoch 7/25\n",
      "25/25 [==============================] - 6s 235ms/step - loss: 0.6880 - accuracy: 0.5484\n",
      "Epoch 8/25\n",
      "25/25 [==============================] - 6s 221ms/step - loss: 0.6830 - accuracy: 0.5568\n",
      "Epoch 9/25\n",
      "25/25 [==============================] - 5s 217ms/step - loss: 0.6776 - accuracy: 0.5730\n",
      "Epoch 10/25\n",
      "25/25 [==============================] - 6s 225ms/step - loss: 0.6749 - accuracy: 0.5743\n",
      "Epoch 11/25\n",
      "25/25 [==============================] - 6s 227ms/step - loss: 0.6860 - accuracy: 0.5523\n",
      "Epoch 12/25\n",
      "25/25 [==============================] - 6s 233ms/step - loss: 0.6756 - accuracy: 0.5698\n",
      "Epoch 13/25\n",
      "25/25 [==============================] - 6s 229ms/step - loss: 0.6638 - accuracy: 0.5956\n",
      "Epoch 14/25\n",
      "25/25 [==============================] - 6s 227ms/step - loss: 0.6634 - accuracy: 0.5950\n",
      "Epoch 15/25\n",
      "25/25 [==============================] - 6s 238ms/step - loss: 0.6639 - accuracy: 0.5982\n",
      "Epoch 16/25\n",
      "25/25 [==============================] - 6s 226ms/step - loss: 0.6637 - accuracy: 0.5975\n",
      "Epoch 17/25\n",
      "25/25 [==============================] - 6s 229ms/step - loss: 0.6538 - accuracy: 0.6092\n",
      "Epoch 18/25\n",
      "25/25 [==============================] - 6s 232ms/step - loss: 0.6522 - accuracy: 0.6066\n",
      "Epoch 19/25\n",
      "25/25 [==============================] - 6s 230ms/step - loss: 0.6570 - accuracy: 0.6027\n",
      "Epoch 20/25\n",
      "25/25 [==============================] - 6s 233ms/step - loss: 0.6517 - accuracy: 0.5988\n",
      "Epoch 21/25\n",
      "25/25 [==============================] - 6s 230ms/step - loss: 0.6390 - accuracy: 0.6292\n",
      "Epoch 22/25\n",
      "25/25 [==============================] - 6s 228ms/step - loss: 0.6469 - accuracy: 0.6182\n",
      "Epoch 23/25\n",
      "25/25 [==============================] - 6s 229ms/step - loss: 0.6400 - accuracy: 0.6195\n",
      "Epoch 24/25\n",
      "25/25 [==============================] - 6s 229ms/step - loss: 0.6300 - accuracy: 0.6402\n",
      "Epoch 25/25\n",
      "25/25 [==============================] - 6s 230ms/step - loss: 0.6209 - accuracy: 0.6421\n"
     ]
    }
   ],
   "source": [
    "history1 = model1.fit(x_train_lstm, y_train_lstm, epochs=25, batch_size=64)"
   ]
  },
  {
   "cell_type": "code",
   "execution_count": null,
   "metadata": {
    "colab": {
     "base_uri": "https://localhost:8080/"
    },
    "id": "454d_OZYWwXF",
    "outputId": "a42505bf-836f-40be-a67e-375611da04c9"
   },
   "outputs": [
    {
     "name": "stdout",
     "output_type": "stream",
     "text": [
      "Accuracy with LSTM: 53.46%\n"
     ]
    }
   ],
   "source": [
    "# model evaluation\n",
    "scores1 = model1.evaluate(x_test_lstm, y_test_lstm, verbose=0)\n",
    "print(\"Accuracy with LSTM: %.2f%%\" % (scores1[1]*100))"
   ]
  },
  {
   "cell_type": "markdown",
   "metadata": {
    "id": "1PoTc02m3ui1"
   },
   "source": [
    "# LSTM with ARIMA as a Feature"
   ]
  },
  {
   "cell_type": "code",
   "execution_count": null,
   "metadata": {
    "id": "GUL-tkaaAhDX"
   },
   "outputs": [],
   "source": [
    "!pip install pmdarima\n",
    "from pmdarima import auto_arima"
   ]
  },
  {
   "cell_type": "code",
   "execution_count": null,
   "metadata": {
    "id": "xd7jOtAvfwS3"
   },
   "outputs": [],
   "source": [
    "seq_len_arima =180"
   ]
  },
  {
   "cell_type": "code",
   "execution_count": null,
   "metadata": {
    "id": "QLCEAU4z7mHJ"
   },
   "outputs": [],
   "source": [
    "# Adding ARIMA to the training data using the space window = seq_len\n",
    "def rolling_arima(df):\n",
    "    model = auto_arima(df.values, error_action='ignore', suppress_warnings=True)\n",
    "    model.fit(df.values)\n",
    "    y_hat = model.predict(1)\n",
    "    return y_hat"
   ]
  },
  {
   "cell_type": "code",
   "execution_count": null,
   "metadata": {
    "id": "Xrvz4Flo84Zi"
   },
   "outputs": [],
   "source": [
    "# Lagged sequence length = 180\n",
    "X_lag['rolling arima'] = X_lag['Close'].rolling(window=seq_len).apply(lambda x: rolling_arima(x))\n",
    "X_lag.to_csv('X_lag_seqlen=180.csv', index=None)"
   ]
  },
  {
   "cell_type": "code",
   "execution_count": null,
   "metadata": {
    "id": "KR_sq6KKe86n"
   },
   "outputs": [],
   "source": [
    "feature_list = ['Label','Subjectivity','Objectivity','Positive','Negative','Neutral','Open','High','Low','Volume','Close','ma7','rolling arima']"
   ]
  },
  {
   "cell_type": "code",
   "execution_count": null,
   "metadata": {
    "id": "ecsvhiKA5fjO"
   },
   "outputs": [],
   "source": [
    "X_train_arima = X_lag.loc[:'2014-12-31', feature_list].dropna()\n",
    "X_test_arima = X_lag.loc['2015-01-01':, feature_list]\n",
    "\n",
    "Y_train_arima = X_lag.loc[:'2014-12-31','Label']\n",
    "Y_test_arima = X_lag.loc['2015-01-01':,'Label']\n",
    "\n",
    "X_train_arima = np.array(X_train_arima)\n",
    "X_test_arima = np.array(X_test_arima)\n",
    "Y_train_arima = np.array(Y_train_arima)\n",
    "Y_test_arima = np.array(Y_test_arima)"
   ]
  },
  {
   "cell_type": "code",
   "execution_count": null,
   "metadata": {
    "id": "Kpu7su1FZ6y_"
   },
   "outputs": [],
   "source": [
    "# Scaler for data with arima\n",
    "scaler2 = StandardScaler()\n",
    "scaler2.fit(X_train_arima)\n",
    "X_train_arima_trans = scaler2.transform(X_train_arima)"
   ]
  },
  {
   "cell_type": "code",
   "execution_count": null,
   "metadata": {
    "colab": {
     "base_uri": "https://localhost:8080/"
    },
    "id": "OyngFSMd_sW_",
    "outputId": "7fc6ef35-ae01-475d-a42c-9dadc11ed7e2"
   },
   "outputs": [
    {
     "name": "stdout",
     "output_type": "stream",
     "text": [
      "(1249, 180, 13)\n"
     ]
    }
   ],
   "source": [
    "x_train_arima,y_train_arima=([],[])\n",
    "\n",
    "for i in range(seq_len_arima-1, X_train_arima.shape[0]):\n",
    "    if i == (X_train_arima_trans.shape[0]-1):\n",
    "        x_train_arima.append(X_train_arima_trans[i-seq_len+1:])\n",
    "        y_train_arima.append(Y_train_arima[i])\n",
    "        break\n",
    "    x_train_arima.append(X_train_arima_trans[i-seq_len_arima+1:i+1])\n",
    "    y_train_arima.append(Y_train_arima[i])\n",
    "    \n",
    "x_train_arima = np.array(x_train_arima)\n",
    "x_train_arima = x_train_arima.reshape((x_train_arima.shape[0], x_train_arima.shape[1], len(feature_list)))\n",
    "y_train_arima = np.array(y_train_arima)\n",
    "y_train_arima = y_train_arima.reshape((y_train_arima.shape[0],1))\n",
    "\n",
    "print(x_train_arima.shape)"
   ]
  },
  {
   "cell_type": "code",
   "execution_count": null,
   "metadata": {
    "colab": {
     "base_uri": "https://localhost:8080/"
    },
    "id": "Oj_T7jh2RoPU",
    "outputId": "7f414864-2061-4edb-d545-4e9616c40241"
   },
   "outputs": [
    {
     "name": "stdout",
     "output_type": "stream",
     "text": [
      "(378, 180, 13)\n"
     ]
    }
   ],
   "source": [
    "x_test_arima,y_test_arima=([],[])\n",
    "XX_lag = X_lag.loc[:,feature_list].values\n",
    "\n",
    "for i in range(X_test.shape[0]):\n",
    "    loc = XX_lag.shape[0] - X_test.shape[0] + i\n",
    "    y_test_arima.append(Y_test_arima[i])\n",
    "\n",
    "    if i == (X_test.shape[0]-1):\n",
    "        x_test_arima.append(scaler2.transform(XX_lag[loc+1-seq_len_arima:])) \n",
    "        break\n",
    "\n",
    "    x_test_arima.append(scaler2.transform(XX_lag[loc+1-seq_len_arima:loc+1]))\n",
    "\n",
    "x_test_arima = np.array(x_test_arima)\n",
    "x_test_arima = x_test_arima.reshape((x_test_arima.shape[0],x_test_arima.shape[1],len(feature_list)))\n",
    "y_test_arima = np.array(y_test_arima)\n",
    "y_test_arima = y_test.reshape((y_test_arima.shape[0],1))\n",
    "\n",
    "print(x_test_arima.shape)"
   ]
  },
  {
   "cell_type": "code",
   "execution_count": null,
   "metadata": {
    "id": "UK8XykSLlajC"
   },
   "outputs": [],
   "source": [
    "# Model 2: LSTM with rolling ARIMA in features\n",
    "model2 = Sequential()\n",
    "model2.add(LSTM(128, input_shape=(x_train_arima.shape[1],x_train_arima.shape[2]), return_sequences=True))\n",
    "model2.add(BatchNormalization())\n",
    "model2.add(LSTM(128))\n",
    "model2.add(BatchNormalization())\n",
    "model2.add(Dense(1, activation='sigmoid'))"
   ]
  },
  {
   "cell_type": "code",
   "execution_count": null,
   "metadata": {
    "colab": {
     "base_uri": "https://localhost:8080/"
    },
    "id": "mTTWHRDEK-Rb",
    "outputId": "ec33edd5-f21a-4377-fc24-56f63ae651fc"
   },
   "outputs": [
    {
     "data": {
      "text/plain": [
       "(1249, 180, 13)"
      ]
     },
     "execution_count": 305,
     "metadata": {
      "tags": []
     },
     "output_type": "execute_result"
    }
   ],
   "source": [
    "x_train_arima.shape"
   ]
  },
  {
   "cell_type": "code",
   "execution_count": null,
   "metadata": {
    "colab": {
     "base_uri": "https://localhost:8080/"
    },
    "id": "4cxHAMW89NXy",
    "outputId": "c7583b44-20ee-403e-c9c5-44c90785b009"
   },
   "outputs": [
    {
     "data": {
      "text/plain": [
       "<tensorflow.python.keras.optimizer_v2.adam.Adam at 0x7f2b1586aef0>"
      ]
     },
     "execution_count": 306,
     "metadata": {
      "tags": []
     },
     "output_type": "execute_result"
    }
   ],
   "source": [
    "model2.compile(loss='binary_crossentropy',optimizer='adam',metrics=[metrics.RootMeanSquaredError(name='RMSE'), 'acc'])\n",
    "optimizers.Adam(learning_rate=1e-5)"
   ]
  },
  {
   "cell_type": "code",
   "execution_count": null,
   "metadata": {
    "colab": {
     "base_uri": "https://localhost:8080/"
    },
    "id": "3lR2hPWl9Q8E",
    "outputId": "84f66422-74dd-45c2-ac99-a6bb3c155e5a"
   },
   "outputs": [
    {
     "name": "stdout",
     "output_type": "stream",
     "text": [
      "Epoch 1/40\n",
      "20/20 [==============================] - 13s 632ms/step - loss: 0.7732 - RMSE: 0.5283 - acc: 0.4852\n",
      "Epoch 2/40\n",
      "20/20 [==============================] - 13s 633ms/step - loss: 0.7059 - RMSE: 0.5050 - acc: 0.5476\n",
      "Epoch 3/40\n",
      "20/20 [==============================] - 13s 644ms/step - loss: 0.6854 - RMSE: 0.4961 - acc: 0.5669\n",
      "Epoch 4/40\n",
      "20/20 [==============================] - 13s 643ms/step - loss: 0.6708 - RMSE: 0.4886 - acc: 0.5861\n",
      "Epoch 5/40\n",
      "20/20 [==============================] - 13s 634ms/step - loss: 0.6701 - RMSE: 0.4881 - acc: 0.5997\n",
      "Epoch 6/40\n",
      "20/20 [==============================] - 13s 632ms/step - loss: 0.6658 - RMSE: 0.4864 - acc: 0.5933\n",
      "Epoch 7/40\n",
      "20/20 [==============================] - 13s 628ms/step - loss: 0.6610 - RMSE: 0.4846 - acc: 0.5941\n",
      "Epoch 8/40\n",
      "20/20 [==============================] - 13s 632ms/step - loss: 0.6615 - RMSE: 0.4845 - acc: 0.6029\n",
      "Epoch 9/40\n",
      "20/20 [==============================] - 13s 640ms/step - loss: 0.6448 - RMSE: 0.4762 - acc: 0.6341\n",
      "Epoch 10/40\n",
      "20/20 [==============================] - 13s 639ms/step - loss: 0.6440 - RMSE: 0.4761 - acc: 0.6173\n",
      "Epoch 11/40\n",
      "20/20 [==============================] - 13s 636ms/step - loss: 0.6425 - RMSE: 0.4746 - acc: 0.6365\n",
      "Epoch 12/40\n",
      "20/20 [==============================] - 13s 635ms/step - loss: 0.6295 - RMSE: 0.4692 - acc: 0.6429\n",
      "Epoch 13/40\n",
      "20/20 [==============================] - 13s 647ms/step - loss: 0.6285 - RMSE: 0.4690 - acc: 0.6405\n",
      "Epoch 14/40\n",
      "20/20 [==============================] - 13s 659ms/step - loss: 0.6094 - RMSE: 0.4598 - acc: 0.6517\n",
      "Epoch 15/40\n",
      "20/20 [==============================] - 13s 638ms/step - loss: 0.6075 - RMSE: 0.4588 - acc: 0.6565\n",
      "Epoch 16/40\n",
      "20/20 [==============================] - 13s 637ms/step - loss: 0.6016 - RMSE: 0.4556 - acc: 0.6749\n",
      "Epoch 17/40\n",
      "20/20 [==============================] - 13s 640ms/step - loss: 0.6047 - RMSE: 0.4581 - acc: 0.6685\n",
      "Epoch 18/40\n",
      "20/20 [==============================] - 13s 641ms/step - loss: 0.5805 - RMSE: 0.4464 - acc: 0.6910\n",
      "Epoch 19/40\n",
      "20/20 [==============================] - 13s 641ms/step - loss: 0.5832 - RMSE: 0.4474 - acc: 0.6829\n",
      "Epoch 20/40\n",
      "20/20 [==============================] - 13s 635ms/step - loss: 0.5677 - RMSE: 0.4407 - acc: 0.6950\n",
      "Epoch 21/40\n",
      "20/20 [==============================] - 13s 637ms/step - loss: 0.5458 - RMSE: 0.4292 - acc: 0.7206\n",
      "Epoch 22/40\n",
      "20/20 [==============================] - 13s 638ms/step - loss: 0.5414 - RMSE: 0.4281 - acc: 0.7182\n",
      "Epoch 23/40\n",
      "20/20 [==============================] - 13s 638ms/step - loss: 0.5276 - RMSE: 0.4211 - acc: 0.7318\n",
      "Epoch 24/40\n",
      "20/20 [==============================] - 13s 644ms/step - loss: 0.5263 - RMSE: 0.4205 - acc: 0.7246\n",
      "Epoch 25/40\n",
      "20/20 [==============================] - 13s 644ms/step - loss: 0.5111 - RMSE: 0.4123 - acc: 0.7494\n",
      "Epoch 26/40\n",
      "20/20 [==============================] - 13s 661ms/step - loss: 0.4948 - RMSE: 0.4046 - acc: 0.7654\n",
      "Epoch 27/40\n",
      "20/20 [==============================] - 13s 647ms/step - loss: 0.4994 - RMSE: 0.4075 - acc: 0.7486\n",
      "Epoch 28/40\n",
      "20/20 [==============================] - 13s 653ms/step - loss: 0.4704 - RMSE: 0.3908 - acc: 0.7838\n",
      "Epoch 29/40\n",
      "20/20 [==============================] - 13s 650ms/step - loss: 0.4534 - RMSE: 0.3829 - acc: 0.7966\n",
      "Epoch 30/40\n",
      "20/20 [==============================] - 13s 644ms/step - loss: 0.4559 - RMSE: 0.3849 - acc: 0.7790\n",
      "Epoch 31/40\n",
      "20/20 [==============================] - 13s 642ms/step - loss: 0.4390 - RMSE: 0.3770 - acc: 0.7950\n",
      "Epoch 32/40\n",
      "20/20 [==============================] - 13s 645ms/step - loss: 0.4197 - RMSE: 0.3656 - acc: 0.8255\n",
      "Epoch 33/40\n",
      "20/20 [==============================] - 13s 639ms/step - loss: 0.4112 - RMSE: 0.3622 - acc: 0.8110\n",
      "Epoch 34/40\n",
      "20/20 [==============================] - 13s 660ms/step - loss: 0.3967 - RMSE: 0.3538 - acc: 0.8255\n",
      "Epoch 35/40\n",
      "20/20 [==============================] - 13s 653ms/step - loss: 0.3818 - RMSE: 0.3457 - acc: 0.8407\n",
      "Epoch 36/40\n",
      "20/20 [==============================] - 13s 643ms/step - loss: 0.3675 - RMSE: 0.3375 - acc: 0.8487\n",
      "Epoch 37/40\n",
      "20/20 [==============================] - 13s 652ms/step - loss: 0.3504 - RMSE: 0.3282 - acc: 0.8599\n",
      "Epoch 38/40\n",
      "20/20 [==============================] - 13s 642ms/step - loss: 0.3206 - RMSE: 0.3095 - acc: 0.8839\n",
      "Epoch 39/40\n",
      "20/20 [==============================] - 13s 670ms/step - loss: 0.3264 - RMSE: 0.3143 - acc: 0.8743\n",
      "Epoch 40/40\n",
      "20/20 [==============================] - 13s 654ms/step - loss: 0.2950 - RMSE: 0.2931 - acc: 0.8983\n"
     ]
    }
   ],
   "source": [
    "history2 = model2.fit(x_train_arima, y_train_arima, epochs=50, batch_size=64)"
   ]
  },
  {
   "cell_type": "code",
   "execution_count": null,
   "metadata": {
    "colab": {
     "base_uri": "https://localhost:8080/"
    },
    "id": "s9aaA9K6kVnt",
    "outputId": "65f981e2-fc6f-454c-8388-7592d11f7ffb"
   },
   "outputs": [
    {
     "name": "stdout",
     "output_type": "stream",
     "text": [
      "Accuracy with LSTM - ARIMA: 63.29%\n"
     ]
    }
   ],
   "source": [
    "# model evaluation\n",
    "scores2 = model2.evaluate(x_test_arima, y_test_arima, verbose=0)\n",
    "print(\"Accuracy with LSTM - ARIMA: %.2f%%\" % (scores2[1]*100))"
   ]
  },
  {
   "cell_type": "code",
   "execution_count": null,
   "metadata": {
    "colab": {
     "base_uri": "https://localhost:8080/",
     "height": 329
    },
    "id": "go5CEN-DxQ6g",
    "outputId": "456f5f97-0611-4b77-b8c8-3a14144baeb5"
   },
   "outputs": [
    {
     "name": "stdout",
     "output_type": "stream",
     "text": [
      "AUC score is 0.5290658602150538\n",
      "roc auc is :0.5290658602150538\n"
     ]
    },
    {
     "data": {
      "image/png": "[encoded data removed]",
      "text/plain": [
       "<Figure size 432x288 with 1 Axes>"
      ]
     },
     "metadata": {
      "needs_background": "light",
      "tags": []
     },
     "output_type": "display_data"
    }
   ],
   "source": [
    "# Generating the ROC curve\n",
    "y_pred_proba_lstm_arima = model2.predict(x_test_arima)\n",
    "fpr, tpr, thresholds = roc_curve(Y_test_arima, y_pred_proba_lstm_arima)\n",
    "roc_auc = auc(fpr, tpr)\n",
    "print(\"AUC score is \" + str(roc_auc))\n",
    "\n",
    "# Plot ROC curve\n",
    "print(\"roc auc is :\" + str(roc_auc))\n",
    "pyplot.plot([0, 1], [0, 1], 'k--')\n",
    "pyplot.plot(fpr, tpr)\n",
    "pyplot.xlabel('False Positive Rate')\n",
    "pyplot.ylabel('True Positive Rate')\n",
    "pyplot.title('ROC Curve')\n",
    "pyplot.show()"
   ]
  },
  {
   "cell_type": "markdown",
   "metadata": {
    "id": "wGPccT1Utuiu"
   },
   "source": [
    "# GRU - LSTM"
   ]
  },
  {
   "cell_type": "code",
   "execution_count": null,
   "metadata": {
    "id": "d7_cVcG8KouN"
   },
   "outputs": [],
   "source": [
    "from keras.callbacks import ReduceLROnPlateau, ModelCheckpoint\n",
    "import time"
   ]
  },
  {
   "cell_type": "code",
   "execution_count": null,
   "metadata": {
    "id": "46rzbPGBLFa2"
   },
   "outputs": [],
   "source": [
    "FUTURE_PERIOD_PREDICT = 1\n",
    "NAME = NAME = f\"{seq_len}-SEQ-{FUTURE_PERIOD_PREDICT}-PRED-{int(time.time())}\""
   ]
  },
  {
   "cell_type": "code",
   "execution_count": null,
   "metadata": {
    "colab": {
     "base_uri": "https://localhost:8080/"
    },
    "id": "92mWM20QKqN1",
    "outputId": "394c546f-1253-4350-f9f4-9bf1a5a573d2"
   },
   "outputs": [
    {
     "name": "stdout",
     "output_type": "stream",
     "text": [
      "WARNING:tensorflow:`epsilon` argument is deprecated and will be removed, use `min_delta` instead.\n"
     ]
    }
   ],
   "source": [
    "lr_reduce = ReduceLROnPlateau(monitor='val_loss', factor=0.1, epsilon=0.0001, patience=3, verbose=1)\n",
    "checkpoint = ModelCheckpoint(NAME, monitor='val_loss', verbose=1, save_best_only=True, mode='min')"
   ]
  },
  {
   "cell_type": "code",
   "execution_count": null,
   "metadata": {
    "colab": {
     "base_uri": "https://localhost:8080/"
    },
    "id": "tTCk5qsmts1G",
    "outputId": "fcbb6711-3938-4dd3-93a1-4b6c1556110a"
   },
   "outputs": [
    {
     "name": "stdout",
     "output_type": "stream",
     "text": [
      "Model: \"sequential_32\"\n",
      "_________________________________________________________________\n",
      "Layer (type)                 Output Shape              Param #   \n",
      "=================================================================\n",
      "gru_7 (GRU)                  (None, 180, 256)          208128    \n",
      "_________________________________________________________________\n",
      "dropout_14 (Dropout)         (None, 180, 256)          0         \n",
      "_________________________________________________________________\n",
      "lstm_50 (LSTM)               (None, 256)               525312    \n",
      "_________________________________________________________________\n",
      "dropout_15 (Dropout)         (None, 256)               0         \n",
      "_________________________________________________________________\n",
      "dense_34 (Dense)             (None, 64)                16448     \n",
      "_________________________________________________________________\n",
      "dense_35 (Dense)             (None, 2)                 130       \n",
      "=================================================================\n",
      "Total params: 750,018\n",
      "Trainable params: 750,018\n",
      "Non-trainable params: 0\n",
      "_________________________________________________________________\n"
     ]
    }
   ],
   "source": [
    "# Model 3: LSTM - GRU \n",
    "model3 = Sequential()\n",
    "model3.add(GRU(256, input_shape = (x_train_arima.shape[1],x_train_arima.shape[2]) , return_sequences=True))\n",
    "model3.add(Dropout(0.4))\n",
    "model3.add(LSTM(256))\n",
    "model3.add(Dropout(0.4))\n",
    "model3.add(Dense(64 ,  activation = 'relu'))\n",
    "model3.add(Dense(2, activation='softmax'))\n",
    "model3.summary()"
   ]
  },
  {
   "cell_type": "code",
   "execution_count": null,
   "metadata": {
    "id": "gRDHb5nsuacG"
   },
   "outputs": [],
   "source": [
    "model3.compile(loss='sparse_categorical_crossentropy', optimizer='adam' , metrics = ['accuracy'])"
   ]
  },
  {
   "cell_type": "code",
   "execution_count": null,
   "metadata": {
    "colab": {
     "base_uri": "https://localhost:8080/"
    },
    "id": "9Z8ElO1_uqjl",
    "outputId": "b36cd809-3acf-44d7-c251-ea95c38be43d"
   },
   "outputs": [
    {
     "name": "stdout",
     "output_type": "stream",
     "text": [
      "Epoch 1/25\n",
      "40/40 [==============================] - ETA: 0s - loss: 0.7033 - accuracy: 0.5196WARNING:tensorflow:Can save best model only with val_loss available, skipping.\n",
      "WARNING:tensorflow:Reduce LR on plateau conditioned on metric `val_loss` which is not available. Available metrics are: loss,accuracy,lr\n",
      "40/40 [==============================] - 49s 1s/step - loss: 0.7033 - accuracy: 0.5196\n",
      "Epoch 2/25\n",
      "40/40 [==============================] - ETA: 0s - loss: 0.7120 - accuracy: 0.5452WARNING:tensorflow:Can save best model only with val_loss available, skipping.\n",
      "WARNING:tensorflow:Reduce LR on plateau conditioned on metric `val_loss` which is not available. Available metrics are: loss,accuracy,lr\n",
      "40/40 [==============================] - 52s 1s/step - loss: 0.7120 - accuracy: 0.5452\n",
      "Epoch 3/25\n",
      "40/40 [==============================] - ETA: 0s - loss: 0.6954 - accuracy: 0.5404WARNING:tensorflow:Can save best model only with val_loss available, skipping.\n",
      "WARNING:tensorflow:Reduce LR on plateau conditioned on metric `val_loss` which is not available. Available metrics are: loss,accuracy,lr\n",
      "40/40 [==============================] - 50s 1s/step - loss: 0.6954 - accuracy: 0.5404\n",
      "Epoch 4/25\n",
      "40/40 [==============================] - ETA: 0s - loss: 0.6970 - accuracy: 0.5276WARNING:tensorflow:Can save best model only with val_loss available, skipping.\n",
      "WARNING:tensorflow:Reduce LR on plateau conditioned on metric `val_loss` which is not available. Available metrics are: loss,accuracy,lr\n",
      "40/40 [==============================] - 50s 1s/step - loss: 0.6970 - accuracy: 0.5276\n",
      "Epoch 5/25\n",
      "40/40 [==============================] - ETA: 0s - loss: 0.6999 - accuracy: 0.5108WARNING:tensorflow:Can save best model only with val_loss available, skipping.\n",
      "WARNING:tensorflow:Reduce LR on plateau conditioned on metric `val_loss` which is not available. Available metrics are: loss,accuracy,lr\n",
      "40/40 [==============================] - 50s 1s/step - loss: 0.6999 - accuracy: 0.5108\n",
      "Epoch 6/25\n",
      "40/40 [==============================] - ETA: 0s - loss: 0.6989 - accuracy: 0.5284WARNING:tensorflow:Can save best model only with val_loss available, skipping.\n",
      "WARNING:tensorflow:Reduce LR on plateau conditioned on metric `val_loss` which is not available. Available metrics are: loss,accuracy,lr\n",
      "40/40 [==============================] - 50s 1s/step - loss: 0.6989 - accuracy: 0.5284\n",
      "Epoch 7/25\n",
      "40/40 [==============================] - ETA: 0s - loss: 0.6917 - accuracy: 0.5588WARNING:tensorflow:Can save best model only with val_loss available, skipping.\n",
      "WARNING:tensorflow:Reduce LR on plateau conditioned on metric `val_loss` which is not available. Available metrics are: loss,accuracy,lr\n",
      "40/40 [==============================] - 49s 1s/step - loss: 0.6917 - accuracy: 0.5588\n",
      "Epoch 8/25\n",
      "40/40 [==============================] - ETA: 0s - loss: 0.6906 - accuracy: 0.5524WARNING:tensorflow:Can save best model only with val_loss available, skipping.\n",
      "WARNING:tensorflow:Reduce LR on plateau conditioned on metric `val_loss` which is not available. Available metrics are: loss,accuracy,lr\n",
      "40/40 [==============================] - 50s 1s/step - loss: 0.6906 - accuracy: 0.5524\n",
      "Epoch 9/25\n",
      "40/40 [==============================] - ETA: 0s - loss: 0.6906 - accuracy: 0.5452WARNING:tensorflow:Can save best model only with val_loss available, skipping.\n",
      "WARNING:tensorflow:Reduce LR on plateau conditioned on metric `val_loss` which is not available. Available metrics are: loss,accuracy,lr\n",
      "40/40 [==============================] - 50s 1s/step - loss: 0.6906 - accuracy: 0.5452\n",
      "Epoch 10/25\n",
      "40/40 [==============================] - ETA: 0s - loss: 0.6888 - accuracy: 0.5396WARNING:tensorflow:Can save best model only with val_loss available, skipping.\n",
      "WARNING:tensorflow:Reduce LR on plateau conditioned on metric `val_loss` which is not available. Available metrics are: loss,accuracy,lr\n",
      "40/40 [==============================] - 52s 1s/step - loss: 0.6888 - accuracy: 0.5396\n",
      "Epoch 11/25\n",
      "40/40 [==============================] - ETA: 0s - loss: 0.6846 - accuracy: 0.5468WARNING:tensorflow:Can save best model only with val_loss available, skipping.\n",
      "WARNING:tensorflow:Reduce LR on plateau conditioned on metric `val_loss` which is not available. Available metrics are: loss,accuracy,lr\n",
      "40/40 [==============================] - 52s 1s/step - loss: 0.6846 - accuracy: 0.5468\n",
      "Epoch 12/25\n",
      "40/40 [==============================] - ETA: 0s - loss: 0.6886 - accuracy: 0.5548WARNING:tensorflow:Can save best model only with val_loss available, skipping.\n",
      "WARNING:tensorflow:Reduce LR on plateau conditioned on metric `val_loss` which is not available. Available metrics are: loss,accuracy,lr\n",
      "40/40 [==============================] - 51s 1s/step - loss: 0.6886 - accuracy: 0.5548\n",
      "Epoch 13/25\n",
      "40/40 [==============================] - ETA: 0s - loss: 0.6872 - accuracy: 0.5508WARNING:tensorflow:Can save best model only with val_loss available, skipping.\n",
      "WARNING:tensorflow:Reduce LR on plateau conditioned on metric `val_loss` which is not available. Available metrics are: loss,accuracy,lr\n",
      "40/40 [==============================] - 51s 1s/step - loss: 0.6872 - accuracy: 0.5508\n",
      "Epoch 14/25\n",
      "40/40 [==============================] - ETA: 0s - loss: 0.6900 - accuracy: 0.5540WARNING:tensorflow:Can save best model only with val_loss available, skipping.\n",
      "WARNING:tensorflow:Reduce LR on plateau conditioned on metric `val_loss` which is not available. Available metrics are: loss,accuracy,lr\n",
      "40/40 [==============================] - 52s 1s/step - loss: 0.6900 - accuracy: 0.5540\n",
      "Epoch 15/25\n",
      "40/40 [==============================] - ETA: 0s - loss: 0.6815 - accuracy: 0.5765WARNING:tensorflow:Can save best model only with val_loss available, skipping.\n",
      "WARNING:tensorflow:Reduce LR on plateau conditioned on metric `val_loss` which is not available. Available metrics are: loss,accuracy,lr\n",
      "40/40 [==============================] - 52s 1s/step - loss: 0.6815 - accuracy: 0.5765\n",
      "Epoch 16/25\n",
      "40/40 [==============================] - ETA: 0s - loss: 0.6820 - accuracy: 0.5604WARNING:tensorflow:Can save best model only with val_loss available, skipping.\n",
      "WARNING:tensorflow:Reduce LR on plateau conditioned on metric `val_loss` which is not available. Available metrics are: loss,accuracy,lr\n",
      "40/40 [==============================] - 52s 1s/step - loss: 0.6820 - accuracy: 0.5604\n",
      "Epoch 17/25\n",
      "40/40 [==============================] - ETA: 0s - loss: 0.6937 - accuracy: 0.5484WARNING:tensorflow:Can save best model only with val_loss available, skipping.\n",
      "WARNING:tensorflow:Reduce LR on plateau conditioned on metric `val_loss` which is not available. Available metrics are: loss,accuracy,lr\n",
      "40/40 [==============================] - 52s 1s/step - loss: 0.6937 - accuracy: 0.5484\n",
      "Epoch 18/25\n",
      "40/40 [==============================] - ETA: 0s - loss: 0.6791 - accuracy: 0.5765WARNING:tensorflow:Can save best model only with val_loss available, skipping.\n",
      "WARNING:tensorflow:Reduce LR on plateau conditioned on metric `val_loss` which is not available. Available metrics are: loss,accuracy,lr\n",
      "40/40 [==============================] - 51s 1s/step - loss: 0.6791 - accuracy: 0.5765\n",
      "Epoch 19/25\n",
      "40/40 [==============================] - ETA: 0s - loss: 0.6797 - accuracy: 0.5604WARNING:tensorflow:Can save best model only with val_loss available, skipping.\n",
      "WARNING:tensorflow:Reduce LR on plateau conditioned on metric `val_loss` which is not available. Available metrics are: loss,accuracy,lr\n",
      "40/40 [==============================] - 50s 1s/step - loss: 0.6797 - accuracy: 0.5604\n",
      "Epoch 20/25\n",
      "40/40 [==============================] - ETA: 0s - loss: 0.6703 - accuracy: 0.5861WARNING:tensorflow:Can save best model only with val_loss available, skipping.\n",
      "WARNING:tensorflow:Reduce LR on plateau conditioned on metric `val_loss` which is not available. Available metrics are: loss,accuracy,lr\n",
      "40/40 [==============================] - 52s 1s/step - loss: 0.6703 - accuracy: 0.5861\n",
      "Epoch 21/25\n",
      "40/40 [==============================] - ETA: 0s - loss: 0.6645 - accuracy: 0.5909WARNING:tensorflow:Can save best model only with val_loss available, skipping.\n",
      "WARNING:tensorflow:Reduce LR on plateau conditioned on metric `val_loss` which is not available. Available metrics are: loss,accuracy,lr\n",
      "40/40 [==============================] - 52s 1s/step - loss: 0.6645 - accuracy: 0.5909\n",
      "Epoch 22/25\n",
      "40/40 [==============================] - ETA: 0s - loss: 0.6565 - accuracy: 0.6045WARNING:tensorflow:Can save best model only with val_loss available, skipping.\n",
      "WARNING:tensorflow:Reduce LR on plateau conditioned on metric `val_loss` which is not available. Available metrics are: loss,accuracy,lr\n",
      "40/40 [==============================] - 51s 1s/step - loss: 0.6565 - accuracy: 0.6045\n",
      "Epoch 23/25\n",
      "40/40 [==============================] - ETA: 0s - loss: 0.6532 - accuracy: 0.6285WARNING:tensorflow:Can save best model only with val_loss available, skipping.\n",
      "WARNING:tensorflow:Reduce LR on plateau conditioned on metric `val_loss` which is not available. Available metrics are: loss,accuracy,lr\n",
      "40/40 [==============================] - 51s 1s/step - loss: 0.6532 - accuracy: 0.6285\n",
      "Epoch 24/25\n",
      "40/40 [==============================] - ETA: 0s - loss: 0.6454 - accuracy: 0.6269WARNING:tensorflow:Can save best model only with val_loss available, skipping.\n",
      "WARNING:tensorflow:Reduce LR on plateau conditioned on metric `val_loss` which is not available. Available metrics are: loss,accuracy,lr\n",
      "40/40 [==============================] - 52s 1s/step - loss: 0.6454 - accuracy: 0.6269\n",
      "Epoch 25/25\n",
      "40/40 [==============================] - ETA: 0s - loss: 0.6497 - accuracy: 0.6117WARNING:tensorflow:Can save best model only with val_loss available, skipping.\n",
      "WARNING:tensorflow:Reduce LR on plateau conditioned on metric `val_loss` which is not available. Available metrics are: loss,accuracy,lr\n",
      "40/40 [==============================] - 50s 1s/step - loss: 0.6497 - accuracy: 0.6117\n"
     ]
    }
   ],
   "source": [
    "history3 = model3.fit(x_train_arima, y_train_arima, batch_size=32, epochs=25, callbacks = [checkpoint, lr_reduce])"
   ]
  },
  {
   "cell_type": "code",
   "execution_count": null,
   "metadata": {
    "colab": {
     "base_uri": "https://localhost:8080/"
    },
    "id": "dNOI3MCGvmMP",
    "outputId": "1963af15-a4f3-464d-9adf-8338f3ce14de"
   },
   "outputs": [
    {
     "name": "stdout",
     "output_type": "stream",
     "text": [
      "Accuracy with GRU: 40.74%\n"
     ]
    }
   ],
   "source": [
    "scores3 = model3.evaluate(x_test_arima, y_test_arima, verbose=0)\n",
    "print(\"Accuracy with GRU: %.2f%%\" % (scores3[1]*100))"
   ]
  },
  {
   "cell_type": "code",
   "execution_count": null,
   "metadata": {
    "colab": {
     "base_uri": "https://localhost:8080/",
     "height": 329
    },
    "id": "BnGeiSCUxULi",
    "outputId": "78a9dc55-3a95-4b7c-bb1d-ba1fba787d40"
   },
   "outputs": [
    {
     "name": "stdout",
     "output_type": "stream",
     "text": [
      "AUC score is 0.3497143817204301\n",
      "roc auc is :0.3497143817204301\n"
     ]
    },
    {
     "data": {
      "image/png": "[encoded data removed]",
      "text/plain": [
       "<Figure size 432x288 with 1 Axes>"
      ]
     },
     "metadata": {
      "needs_background": "light",
      "tags": []
     },
     "output_type": "display_data"
    }
   ],
   "source": [
    "# Generating the ROC curve\n",
    "y_pred_proba_lstm_gru = model3.predict(x_test_arima)[:,1]\n",
    "fpr, tpr, thresholds = roc_curve(Y_test, y_pred_proba_lstm_gru)\n",
    "roc_auc = auc(fpr, tpr)\n",
    "print(\"AUC score is \" + str(roc_auc))\n",
    "\n",
    "# Plot ROC curve\n",
    "print(\"roc auc is :\" + str(roc_auc))\n",
    "pyplot.plot([0, 1], [0, 1], 'k--')\n",
    "pyplot.plot(fpr, tpr)\n",
    "pyplot.xlabel('False Positive Rate')\n",
    "pyplot.ylabel('True Positive Rate')\n",
    "pyplot.title('ROC Curve')\n",
    "pyplot.show()"
   ]
  },
  {
   "cell_type": "markdown",
   "metadata": {},
   "source": [
    "The final attempt of stacked GRU with LSTM was not adopted in our framework since its performance fail to reach our expectation."
   ]
  }
 ],
 "metadata": {
  "colab": {
   "collapsed_sections": [
    "iyQ0eDCVk1fi"
   ],
   "name": "part2 proj csc2515.ipynb",
   "provenance": []
  },
  "kernelspec": {
   "display_name": "Python 3",
   "language": "python",
   "name": "python3"
  },
  "language_info": {
   "codemirror_mode": {
    "name": "ipython",
    "version": 3
   },
   "file_extension": ".py",
   "mimetype": "text/x-python",
   "name": "python",
   "nbconvert_exporter": "python",
   "pygments_lexer": "ipython3",
   "version": "3.8.5"
  }
 },
 "nbformat": 4,
 "nbformat_minor": 4
}
